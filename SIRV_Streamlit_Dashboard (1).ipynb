{
 "cells": [
  {
   "cell_type": "markdown",
   "id": "3f72066e",
   "metadata": {},
   "source": [
    "\n",
    "# SIRV Measles Outbreak Simulator Dashboard\n",
    "\n",
    "A simple Streamlit-based dashboard for simulating the SIRV model of measles spread in Gaines County, Texas.\n"
   ]
  },
  {
   "cell_type": "code",
   "execution_count": null,
   "id": "c1709f6e",
   "metadata": {},
   "outputs": [],
   "source": [
    "\n",
    "import streamlit as st\n",
    "import numpy as np\n",
    "import matplotlib.pyplot as plt\n",
    "from scipy.integrate import odeint\n"
   ]
  },
  {
   "cell_type": "code",
   "execution_count": null,
   "id": "cfebd396",
   "metadata": {},
   "outputs": [],
   "source": [
    "\n",
    "def sirv_model(y, t, beta, gamma, nu):\n",
    "    S, I, R, V = y\n",
    "    dSdt = -beta * S * I - nu * S\n",
    "    dIdt = beta * S * I - gamma * I\n",
    "    dRdt = gamma * I\n",
    "    dVdt = nu * S\n",
    "    return [dSdt, dIdt, dRdt, dVdt]\n"
   ]
  },
  {
   "cell_type": "code",
   "execution_count": null,
   "id": "86504968",
   "metadata": {},
   "outputs": [],
   "source": [
    "\n",
    "st.sidebar.header(\"Model Parameters\")\n",
    "\n",
    "N = st.sidebar.number_input(\"Population\", value=50000, step=1000)\n",
    "I0 = st.sidebar.number_input(\"Initial Infected\", value=10)\n",
    "V0 = st.sidebar.slider(\"Initial Vaccinated (%)\", 0, 100, 85)\n",
    "beta = st.sidebar.slider(\"Infection Rate (β)\", 0.0, 1.0, 0.6)\n",
    "gamma = st.sidebar.slider(\"Recovery Rate (γ)\", 0.0, 1.0, 0.2)\n",
    "nu = st.sidebar.slider(\"Vaccination Rate (ν)\", 0.0, 0.1, 0.001)\n",
    "days = st.sidebar.slider(\"Simulation Days\", 30, 365, 180)\n",
    "\n",
    "R0 = 0\n",
    "V0 = int((V0/100) * N)\n",
    "S0 = N - I0 - R0 - V0\n",
    "y0 = [S0/N, I0/N, R0/N, V0/N]\n",
    "t = np.linspace(0, days, days)\n"
   ]
  },
  {
   "cell_type": "code",
   "execution_count": null,
   "id": "c858e39e",
   "metadata": {},
   "outputs": [],
   "source": [
    "\n",
    "solution = odeint(sirv_model, y0, t, args=(beta, gamma, nu))\n",
    "S, I, R, V = solution.T\n",
    "\n",
    "fig, ax = plt.subplots(figsize=(10, 6))\n",
    "ax.plot(t, S, label='Susceptible')\n",
    "ax.plot(t, I, label='Infected')\n",
    "ax.plot(t, R, label='Recovered')\n",
    "ax.plot(t, V, label='Vaccinated')\n",
    "ax.set_xlabel('Days')\n",
    "ax.set_ylabel('Fraction of Population')\n",
    "ax.set_title('SIRV Model Simulation')\n",
    "ax.legend()\n",
    "ax.grid(True)\n",
    "\n",
    "st.pyplot(fig)\n"
   ]
  }
 ],
 "metadata": {},
 "nbformat": 4,
 "nbformat_minor": 5
}
